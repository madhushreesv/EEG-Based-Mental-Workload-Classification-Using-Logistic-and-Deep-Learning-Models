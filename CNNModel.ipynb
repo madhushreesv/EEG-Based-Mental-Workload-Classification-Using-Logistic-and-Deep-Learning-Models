{
  "cells": [
    {
      "cell_type": "code",
      "source": [
        "import pandas as pd\n",
        "import matplotlib.pyplot as plt\n",
        "import json\n",
        "import numpy as np\n",
        "from tensorflow import keras\n",
        "from tensorflow.keras import layers\n",
        "import tensorflow as tf\n",
        "from sklearn import preprocessing, model_selection\n",
        "import random\n",
        "import scipy.io as io\n",
        "import collections"
      ],
      "metadata": {
        "id": "QCHSsSJIKp2R"
      },
      "execution_count": null,
      "outputs": []
    },
    {
      "cell_type": "code",
      "execution_count": null,
      "metadata": {
        "id": "Jrvb7ddkKFXd"
      },
      "outputs": [],
      "source": [
        "data = io.loadmat('/content/WLDataCW (3).mat')\n",
        "data_only = data[\"data\"]\n",
        "data_label = data[\"label\"]\n",
        "print(data_only.shape)\n",
        "print(type(data_only))\n",
        "print(data_label.shape)\n",
        "#62*512*360, where 62 is the number of channels, 512 is the data points for each sample,\n",
        "#and 360 is the number of samples.\n",
        "label_all = np.reshape(data_label, -1) \n",
        "print(label_all.shape) \n",
        "data_all = np.moveaxis(data_only, 2, 0)\n",
        "#The third dimension (index 2) of the data only array is moved to the top position using this line's use of NumPy's moveaxis function (index 0). As a result, the array's original (height, width, channels) shape is effectively changed to (channels, height, width).\n",
        "#The variable data all is given the resulting array.\n",
        "\n",
        "print(data_all.shape)\n",
        "\n",
        "#This line resizes the array data label using the NumPy module. The second option, -1, instructs NumPy to use the original array's form to determine the size of the reconfigured array automatically.\n",
        " #The variable label all is given ownership of the reshaped array that results.\n"
      ]
    },
    {
      "cell_type": "code",
      "execution_count": null,
      "metadata": {
        "id": "j84Ft0_EKFXd"
      },
      "outputs": [],
      "source": []
    },
    {
      "cell_type": "code",
      "execution_count": null,
      "metadata": {
        "id": "wUJLovmtKFXh"
      },
      "outputs": [],
      "source": [
        "num_classes = len(np.unique(data_label))\n",
        "print(num_classes)\n",
        "\n",
        "counter = collections.Counter(np.reshape(data_label, -1))\n",
        "print(counter)"
      ]
    },
    {
      "cell_type": "code",
      "execution_count": null,
      "metadata": {
        "id": "ssz8s6IPKFXj"
      },
      "outputs": [],
      "source": [
        "x_train, x_test, y_train, y_test = model_selection.train_test_split(\n",
        "    data_all, label_all, test_size=0.2, random_state=42, shuffle=True\n",
        ")\n",
        "\n",
        "print(\n",
        "    f\"Length of x_train : {len(x_train)}\\nLength of x_test : {len(x_test)}\\nLength of y_train : {len(y_train)}\\nLength of y_test : {len(y_test)}\"\n",
        ")\n",
        "\n",
        "print(x_train.shape)\n",
        "print(y_train.shape)\n",
        "\n",
        "print(x_test.shape)\n",
        "print(y_test.shape)\n",
        "\n",
        "train_images0 = x_train\n"
      ]
    },
    {
      "cell_type": "code",
      "source": [
        "if len(x_train.shape) == 3:  # images must be rank-4 tensors [number_of_images, dimension1, dimension2, number_of_channels]\n",
        "    # add a single channel to these black-and-white images\n",
        "    x_train = x_train.reshape(list(x_train.shape)+[1])\n",
        "    x_test = x_test.reshape(list(x_test.shape)+[1])\n",
        "    print(\"Reshaped images from \", train_images0.shape, \"to\", x_train.shape, \"so that 'channel' dimension exists\")\n",
        "\n",
        "num_classification_categories = num_classes"
      ],
      "metadata": {
        "id": "7Y_EjxFdhX5P"
      },
      "execution_count": null,
      "outputs": []
    },
    {
      "cell_type": "code",
      "source": [
        "# build model with CNN architecture\n",
        "model = keras.Sequential()\n",
        "\n",
        "# YOUR CODE HERE (do NOT specify the input shape in the first layer)\n",
        "model.add(layers.Conv2D(16, (3, 3), padding=\"same\", activation=\"relu\"))\n",
        "model.add(layers.Conv2D(32, (3, 3), padding=\"same\", activation=\"relu\"))\n",
        "model.add(layers.MaxPooling2D(pool_size=(2, 2)))\n",
        "model.add(layers.Dropout(0.2))\n",
        "model.add(layers.Conv2D(64, (3, 3), padding=\"same\", activation=\"relu\"))\n",
        "model.add(layers.Conv2D(64, (3, 3), padding=\"same\", activation=\"relu\"))\n",
        "model.add(layers.MaxPooling2D(pool_size=(2, 2)))\n",
        "model.add(layers.Dropout(0.2))\n",
        "model.add(layers.Flatten())\n",
        "model.add(layers.Dense(128, activation='relu'))\n",
        "model.add(layers.Dense(num_classification_categories, activation='softmax'))"
      ],
      "metadata": {
        "id": "eVSBcy7LiiAt"
      },
      "execution_count": null,
      "outputs": []
    },
    {
      "cell_type": "code",
      "source": [
        "model.build(input_shape=(None,) + x_train.shape[1:])\n",
        "model.summary()"
      ],
      "metadata": {
        "id": "14n_azMujbjj"
      },
      "execution_count": null,
      "outputs": []
    },
    {
      "cell_type": "code",
      "source": [
        "optimizer = keras.optimizers.Adam()\n",
        "\n",
        "model.compile(optimizer=optimizer,  \n",
        "              loss=keras.losses.SparseCategoricalCrossentropy(), \n",
        "              metrics=['accuracy'])\n",
        "\n",
        "history = model.fit(x_train, y_train,\n",
        "                batch_size=128,\n",
        "                epochs=50,\n",
        "                validation_data=(x_test, y_test))"
      ],
      "metadata": {
        "id": "X9gZaJ8OjseF"
      },
      "execution_count": null,
      "outputs": []
    },
    {
      "cell_type": "code",
      "source": [
        "plt.plot(history.history['accuracy'], label='train_accuracy')\n",
        "plt.plot(history.history['val_accuracy'], label = 'val_accuracy')\n",
        "plt.xlabel('Epoch')\n",
        "plt.ylabel('Accuracy')\n",
        "plt.legend(loc='lower right')"
      ],
      "metadata": {
        "id": "S9BCX4lXj7NU"
      },
      "execution_count": null,
      "outputs": []
    }
  ],
  "metadata": {
    "accelerator": "GPU",
    "colab": {
      "provenance": [],
      "private_outputs": true
    },
    "kernelspec": {
      "display_name": "Python 3",
      "language": "python",
      "name": "python3"
    },
    "language_info": {
      "codemirror_mode": {
        "name": "ipython",
        "version": 3
      },
      "file_extension": ".py",
      "mimetype": "text/x-python",
      "name": "python",
      "nbconvert_exporter": "python",
      "pygments_lexer": "ipython3",
      "version": "3.7.0"
    },
    "gpuClass": "standard"
  },
  "nbformat": 4,
  "nbformat_minor": 0
}